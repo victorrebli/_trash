{
 "cells": [
  {
   "cell_type": "code",
   "execution_count": 1,
   "metadata": {},
   "outputs": [],
   "source": [
    "import papermill as pm"
   ]
  },
  {
   "cell_type": "code",
   "execution_count": 2,
   "metadata": {},
   "outputs": [],
   "source": [
    "output_papermill = 'output_papermill/'"
   ]
  },
  {
   "cell_type": "code",
   "execution_count": 3,
   "metadata": {},
   "outputs": [],
   "source": [
    "col_exclued = ['vlue_tax_round', 'vlue_total_financed']"
   ]
  },
  {
   "cell_type": "code",
   "execution_count": 4,
   "metadata": {},
   "outputs": [],
   "source": [
    "COLS = ['value_income_client', 'value_input', 'value_tax_bondsman', 'vlue_allowance_dealer', \n",
    "        'vlue_allowance_marker', 'vlue_benefits', 'vlue_guarantee', 'vlue_insurance_prest', \n",
    "        'vlue_payment_method_transf', 'vlue_percent_income', 'vlue_rate_contract', 'vlue_rate_renew',\n",
    "        'vlue_tax_contract', 'vlue_tax_financing', 'vlue_tax_oper_round', 'vlue_tax_operational', \n",
    "        'vlue_tax_round', 'vlue_total_financed', 'vlue_total_guarantee']"
   ]
  },
  {
   "cell_type": "code",
   "execution_count": 5,
   "metadata": {},
   "outputs": [],
   "source": [
    "%%capture\n",
    "model = 'captur'\n",
    "for col_keep in COLS:\n",
    "    output = output_papermill + f'out_captur_{col_keep}.ipynb'\n",
    "    pm.execute_notebook(\n",
    "       'first_notebook-seaborn-captur.ipynb',\n",
    "       output,\n",
    "       parameters=dict(col_exclued=col_exclued, model=model, col_keep=col_keep)\n",
    "    )"
   ]
  }
 ],
 "metadata": {
  "kernelspec": {
   "display_name": "Python 3",
   "language": "python",
   "name": "python3"
  },
  "language_info": {
   "codemirror_mode": {
    "name": "ipython",
    "version": 3
   },
   "file_extension": ".py",
   "mimetype": "text/x-python",
   "name": "python",
   "nbconvert_exporter": "python",
   "pygments_lexer": "ipython3",
   "version": "3.7.4"
  }
 },
 "nbformat": 4,
 "nbformat_minor": 2
}
